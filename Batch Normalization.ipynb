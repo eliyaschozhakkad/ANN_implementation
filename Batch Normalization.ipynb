{
 "cells": [
  {
   "cell_type": "markdown",
   "metadata": {
    "id": "9kjell1nceR3"
   },
   "source": [
    "## Beofre applying Batch Normalization"
   ]
  },
  {
   "cell_type": "code",
   "execution_count": 1,
   "metadata": {
    "executionInfo": {
     "elapsed": 2497,
     "status": "ok",
     "timestamp": 1692526634856,
     "user": {
      "displayName": "colab0 ineuron",
      "userId": "16851312232179065356"
     },
     "user_tz": -360
    },
    "id": "n8Q42uovcByf"
   },
   "outputs": [],
   "source": [
    "import tensorflow as tf\n",
    "import numpy as np\n",
    "import matplotlib.pyplot as plt\n",
    "import time"
   ]
  },
  {
   "cell_type": "code",
   "execution_count": 2,
   "metadata": {
    "colab": {
     "base_uri": "https://localhost:8080/"
    },
    "executionInfo": {
     "elapsed": 3173,
     "status": "ok",
     "timestamp": 1692526765452,
     "user": {
      "displayName": "colab0 ineuron",
      "userId": "16851312232179065356"
     },
     "user_tz": -360
    },
    "id": "X9gM4Vu0ctZN",
    "outputId": "cfbcc04c-baae-4e87-f310-12371f539f29"
   },
   "outputs": [
    {
     "name": "stdout",
     "output_type": "stream",
     "text": [
      "Downloading data from https://storage.googleapis.com/tensorflow/tf-keras-datasets/mnist.npz\n",
      "11490434/11490434 [==============================] - 1s 0us/step\n"
     ]
    }
   ],
   "source": [
    "mnist = tf.keras.datasets.mnist\n",
    "(X_train_full, y_train_full), (X_test, y_test) = mnist.load_data()"
   ]
  },
  {
   "cell_type": "code",
   "execution_count": 3,
   "metadata": {
    "executionInfo": {
     "elapsed": 3,
     "status": "ok",
     "timestamp": 1692526786731,
     "user": {
      "displayName": "colab0 ineuron",
      "userId": "16851312232179065356"
     },
     "user_tz": -360
    },
    "id": "9tup1ESPdM2d"
   },
   "outputs": [],
   "source": [
    "# Appying scaling (minmax)\n",
    "\n",
    "X_valid, X_train = X_train_full[:5000] / 255. , X_train_full[5000:] / 255.\n",
    "y_valid, y_train = y_train_full[:5000] , y_train_full[5000:]\n",
    "\n",
    "#scale test data\n",
    "X_test = X_test / 255."
   ]
  },
  {
   "cell_type": "code",
   "execution_count": 5,
   "metadata": {
    "executionInfo": {
     "elapsed": 736,
     "status": "ok",
     "timestamp": 1692527280387,
     "user": {
      "displayName": "colab0 ineuron",
      "userId": "16851312232179065356"
     },
     "user_tz": -360
    },
    "id": "qc-nc18CdS90"
   },
   "outputs": [],
   "source": [
    "LAYERS = [\n",
    "      tf.keras.layers.Flatten(input_shape = [28,28]),\n",
    "      tf.keras.layers.Dense(300, kernel_initializer=\"he_normal\"),\n",
    "      tf.keras.layers.LeakyReLU(),\n",
    "      tf.keras.layers.Dense(100, kernel_initializer=\"he_normal\"),\n",
    "      tf.keras.layers.LeakyReLU(),\n",
    "      tf.keras.layers.Dense(10, activation='softmax')\n",
    "\n",
    "]\n",
    "\n",
    "model = tf.keras.models.Sequential(LAYERS)"
   ]
  },
  {
   "cell_type": "code",
   "execution_count": 7,
   "metadata": {
    "executionInfo": {
     "elapsed": 3,
     "status": "ok",
     "timestamp": 1692527466865,
     "user": {
      "displayName": "colab0 ineuron",
      "userId": "16851312232179065356"
     },
     "user_tz": -360
    },
    "id": "P9yFE6IofIZu"
   },
   "outputs": [],
   "source": [
    "model.compile(loss = 'sparse_categorical_crossentropy', optimizer= tf.keras.optimizers.SGD(learning_rate=1e-3), metrics=['accuracy'])"
   ]
  },
  {
   "cell_type": "code",
   "execution_count": 8,
   "metadata": {
    "colab": {
     "base_uri": "https://localhost:8080/"
    },
    "executionInfo": {
     "elapsed": 6,
     "status": "ok",
     "timestamp": 1692527480313,
     "user": {
      "displayName": "colab0 ineuron",
      "userId": "16851312232179065356"
     },
     "user_tz": -360
    },
    "id": "UycGpZZzf0jQ",
    "outputId": "776619db-db41-44a3-c996-1daa5acbd7a8"
   },
   "outputs": [
    {
     "name": "stdout",
     "output_type": "stream",
     "text": [
      "Model: \"sequential\"\n",
      "_________________________________________________________________\n",
      " Layer (type)                Output Shape              Param #   \n",
      "=================================================================\n",
      " flatten_1 (Flatten)         (None, 784)               0         \n",
      "                                                                 \n",
      " dense_3 (Dense)             (None, 300)               235500    \n",
      "                                                                 \n",
      " leaky_re_lu_2 (LeakyReLU)   (None, 300)               0         \n",
      "                                                                 \n",
      " dense_4 (Dense)             (None, 100)               30100     \n",
      "                                                                 \n",
      " leaky_re_lu_3 (LeakyReLU)   (None, 100)               0         \n",
      "                                                                 \n",
      " dense_5 (Dense)             (None, 10)                1010      \n",
      "                                                                 \n",
      "=================================================================\n",
      "Total params: 266,610\n",
      "Trainable params: 266,610\n",
      "Non-trainable params: 0\n",
      "_________________________________________________________________\n"
     ]
    }
   ],
   "source": [
    "model.summary()"
   ]
  },
  {
   "cell_type": "code",
   "execution_count": 9,
   "metadata": {
    "colab": {
     "base_uri": "https://localhost:8080/"
    },
    "executionInfo": {
     "elapsed": 49465,
     "status": "ok",
     "timestamp": 1692527705499,
     "user": {
      "displayName": "colab0 ineuron",
      "userId": "16851312232179065356"
     },
     "user_tz": -360
    },
    "id": "iOQqYOIUf8Zu",
    "outputId": "c0503ce3-6278-42a1-9df1-14cc51d2f898"
   },
   "outputs": [
    {
     "name": "stdout",
     "output_type": "stream",
     "text": [
      "Epoch 1/10\n",
      "1719/1719 [==============================] - 10s 3ms/step - loss: 1.5042 - accuracy: 0.6235 - val_loss: 0.9364 - val_accuracy: 0.8064\n",
      "Epoch 2/10\n",
      "1719/1719 [==============================] - 4s 2ms/step - loss: 0.7350 - accuracy: 0.8335 - val_loss: 0.5780 - val_accuracy: 0.8598\n",
      "Epoch 3/10\n",
      "1719/1719 [==============================] - 4s 2ms/step - loss: 0.5322 - accuracy: 0.8651 - val_loss: 0.4626 - val_accuracy: 0.8826\n",
      "Epoch 4/10\n",
      "1719/1719 [==============================] - 4s 2ms/step - loss: 0.4526 - accuracy: 0.8786 - val_loss: 0.4066 - val_accuracy: 0.8896\n",
      "Epoch 5/10\n",
      "1719/1719 [==============================] - 4s 2ms/step - loss: 0.4098 - accuracy: 0.8875 - val_loss: 0.3731 - val_accuracy: 0.8978\n",
      "Epoch 6/10\n",
      "1719/1719 [==============================] - 4s 2ms/step - loss: 0.3824 - accuracy: 0.8936 - val_loss: 0.3507 - val_accuracy: 0.9036\n",
      "Epoch 7/10\n",
      "1719/1719 [==============================] - 4s 2ms/step - loss: 0.3630 - accuracy: 0.8965 - val_loss: 0.3346 - val_accuracy: 0.9078\n",
      "Epoch 8/10\n",
      "1719/1719 [==============================] - 4s 3ms/step - loss: 0.3481 - accuracy: 0.9007 - val_loss: 0.3216 - val_accuracy: 0.9096\n",
      "Epoch 9/10\n",
      "1719/1719 [==============================] - 4s 3ms/step - loss: 0.3362 - accuracy: 0.9036 - val_loss: 0.3112 - val_accuracy: 0.9130\n",
      "Epoch 10/10\n",
      "1719/1719 [==============================] - 4s 3ms/step - loss: 0.3260 - accuracy: 0.9065 - val_loss: 0.3027 - val_accuracy: 0.9146\n",
      "Runtime of the program is 48.979103565216064\n"
     ]
    }
   ],
   "source": [
    "start = time.time()\n",
    "\n",
    "history = model.fit(X_train, y_train, epochs=10,\n",
    "                    validation_data=(X_valid, y_valid))\n",
    "\n",
    "\n",
    "end = time.time()\n",
    "\n",
    "\n",
    "#total time\n",
    "print(f\"Runtime of the program is {end - start}\")"
   ]
  },
  {
   "cell_type": "markdown",
   "metadata": {
    "id": "88278KS6g8Eu"
   },
   "source": [
    "## After batch Normalization"
   ]
  },
  {
   "cell_type": "code",
   "execution_count": 11,
   "metadata": {
    "colab": {
     "base_uri": "https://localhost:8080/",
     "height": 176
    },
    "executionInfo": {
     "elapsed": 841,
     "status": "error",
     "timestamp": 1692527866167,
     "user": {
      "displayName": "colab0 ineuron",
      "userId": "16851312232179065356"
     },
     "user_tz": -360
    },
    "id": "NmyM7Nm-g7RB",
    "outputId": "21e6547f-f610-4199-de28-9265abb69f01"
   },
   "outputs": [
    {
     "ename": "NameError",
     "evalue": "ignored",
     "output_type": "error",
     "traceback": [
      "\u001b[0;31m---------------------------------------------------------------------------\u001b[0m",
      "\u001b[0;31mNameError\u001b[0m                                 Traceback (most recent call last)",
      "\u001b[0;32m<ipython-input-11-57516fb989c9>\u001b[0m in \u001b[0;36m<cell line: 1>\u001b[0;34m()\u001b[0m\n\u001b[0;32m----> 1\u001b[0;31m \u001b[0;32mdel\u001b[0m \u001b[0mmodel\u001b[0m \u001b[0;31m#deleting prev model\u001b[0m\u001b[0;34m\u001b[0m\u001b[0;34m\u001b[0m\u001b[0m\n\u001b[0m",
      "\u001b[0;31mNameError\u001b[0m: name 'model' is not defined"
     ]
    }
   ],
   "source": [
    "del model #deleting prev model"
   ]
  },
  {
   "cell_type": "code",
   "execution_count": 12,
   "metadata": {
    "executionInfo": {
     "elapsed": 606,
     "status": "ok",
     "timestamp": 1692527952759,
     "user": {
      "displayName": "colab0 ineuron",
      "userId": "16851312232179065356"
     },
     "user_tz": -360
    },
    "id": "eOsFfxnKg7Om"
   },
   "outputs": [],
   "source": [
    "LAYERS = [\n",
    "      tf.keras.layers.Flatten(input_shape = [28,28]),\n",
    "      tf.keras.layers.BatchNormalization(),\n",
    "      tf.keras.layers.Dense(300, kernel_initializer=\"he_normal\"),\n",
    "      tf.keras.layers.LeakyReLU(),\n",
    "      tf.keras.layers.BatchNormalization(),\n",
    "      tf.keras.layers.Dense(100, kernel_initializer=\"he_normal\"),\n",
    "      tf.keras.layers.LeakyReLU(),\n",
    "      tf.keras.layers.BatchNormalization(),\n",
    "      tf.keras.layers.Dense(10, activation='softmax')\n",
    "\n",
    "]\n",
    "\n",
    "model = tf.keras.models.Sequential(LAYERS)"
   ]
  },
  {
   "cell_type": "code",
   "execution_count": 13,
   "metadata": {
    "colab": {
     "base_uri": "https://localhost:8080/"
    },
    "executionInfo": {
     "elapsed": 7,
     "status": "ok",
     "timestamp": 1692527970313,
     "user": {
      "displayName": "colab0 ineuron",
      "userId": "16851312232179065356"
     },
     "user_tz": -360
    },
    "id": "VnQayVGNg7Gu",
    "outputId": "b11cd2ef-bb33-4f9c-90d7-3ecd6106ebc3"
   },
   "outputs": [
    {
     "name": "stdout",
     "output_type": "stream",
     "text": [
      "Model: \"sequential_1\"\n",
      "_________________________________________________________________\n",
      " Layer (type)                Output Shape              Param #   \n",
      "=================================================================\n",
      " flatten_2 (Flatten)         (None, 784)               0         \n",
      "                                                                 \n",
      " batch_normalization (BatchN  (None, 784)              3136      \n",
      " ormalization)                                                   \n",
      "                                                                 \n",
      " dense_6 (Dense)             (None, 300)               235500    \n",
      "                                                                 \n",
      " leaky_re_lu_4 (LeakyReLU)   (None, 300)               0         \n",
      "                                                                 \n",
      " batch_normalization_1 (Batc  (None, 300)              1200      \n",
      " hNormalization)                                                 \n",
      "                                                                 \n",
      " dense_7 (Dense)             (None, 100)               30100     \n",
      "                                                                 \n",
      " leaky_re_lu_5 (LeakyReLU)   (None, 100)               0         \n",
      "                                                                 \n",
      " batch_normalization_2 (Batc  (None, 100)              400       \n",
      " hNormalization)                                                 \n",
      "                                                                 \n",
      " dense_8 (Dense)             (None, 10)                1010      \n",
      "                                                                 \n",
      "=================================================================\n",
      "Total params: 271,346\n",
      "Trainable params: 268,978\n",
      "Non-trainable params: 2,368\n",
      "_________________________________________________________________\n"
     ]
    }
   ],
   "source": [
    "model.summary()"
   ]
  },
  {
   "cell_type": "code",
   "execution_count": 14,
   "metadata": {
    "executionInfo": {
     "elapsed": 3,
     "status": "ok",
     "timestamp": 1692528025800,
     "user": {
      "displayName": "colab0 ineuron",
      "userId": "16851312232179065356"
     },
     "user_tz": -360
    },
    "id": "YdAGd6w2g7EW"
   },
   "outputs": [],
   "source": [
    "model.compile(loss = 'sparse_categorical_crossentropy', optimizer= tf.keras.optimizers.SGD(learning_rate=1e-3), metrics=['accuracy'])"
   ]
  },
  {
   "cell_type": "code",
   "execution_count": 15,
   "metadata": {
    "colab": {
     "base_uri": "https://localhost:8080/"
    },
    "executionInfo": {
     "elapsed": 69544,
     "status": "ok",
     "timestamp": 1692528109175,
     "user": {
      "displayName": "colab0 ineuron",
      "userId": "16851312232179065356"
     },
     "user_tz": -360
    },
    "id": "3DubESdPiBid",
    "outputId": "58aa791c-5fb7-4325-83ed-2793b948abf1"
   },
   "outputs": [
    {
     "name": "stdout",
     "output_type": "stream",
     "text": [
      "Epoch 1/10\n",
      "1719/1719 [==============================] - 9s 4ms/step - loss: 0.8902 - accuracy: 0.7258 - val_loss: 0.4803 - val_accuracy: 0.8626\n",
      "Epoch 2/10\n",
      "1719/1719 [==============================] - 7s 4ms/step - loss: 0.4769 - accuracy: 0.8610 - val_loss: 0.3678 - val_accuracy: 0.8932\n",
      "Epoch 3/10\n",
      "1719/1719 [==============================] - 7s 4ms/step - loss: 0.4042 - accuracy: 0.8815 - val_loss: 0.3202 - val_accuracy: 0.9070\n",
      "Epoch 4/10\n",
      "1719/1719 [==============================] - 7s 4ms/step - loss: 0.3639 - accuracy: 0.8928 - val_loss: 0.2913 - val_accuracy: 0.9152\n",
      "Epoch 5/10\n",
      "1719/1719 [==============================] - 7s 4ms/step - loss: 0.3376 - accuracy: 0.9011 - val_loss: 0.2736 - val_accuracy: 0.9230\n",
      "Epoch 6/10\n",
      "1719/1719 [==============================] - 7s 4ms/step - loss: 0.3170 - accuracy: 0.9080 - val_loss: 0.2589 - val_accuracy: 0.9260\n",
      "Epoch 7/10\n",
      "1719/1719 [==============================] - 7s 4ms/step - loss: 0.3023 - accuracy: 0.9116 - val_loss: 0.2474 - val_accuracy: 0.9286\n",
      "Epoch 8/10\n",
      "1719/1719 [==============================] - 7s 4ms/step - loss: 0.2870 - accuracy: 0.9171 - val_loss: 0.2394 - val_accuracy: 0.9326\n",
      "Epoch 9/10\n",
      "1719/1719 [==============================] - 7s 4ms/step - loss: 0.2775 - accuracy: 0.9188 - val_loss: 0.2307 - val_accuracy: 0.9360\n",
      "Epoch 10/10\n",
      "1719/1719 [==============================] - 7s 4ms/step - loss: 0.2702 - accuracy: 0.9214 - val_loss: 0.2229 - val_accuracy: 0.9376\n",
      "Runtime of the program is 69.1629855632782\n"
     ]
    }
   ],
   "source": [
    "start = time.time()\n",
    "\n",
    "history = model.fit(X_train, y_train, epochs=10,\n",
    "                    validation_data=(X_valid, y_valid))\n",
    "\n",
    "\n",
    "end = time.time()\n",
    "\n",
    "\n",
    "#total time\n",
    "print(f\"Runtime of the program is {end - start}\")"
   ]
  },
  {
   "cell_type": "code",
   "execution_count": null,
   "metadata": {
    "id": "0v2Ucg4ciE69"
   },
   "outputs": [],
   "source": []
  }
 ],
 "metadata": {
  "accelerator": "GPU",
  "colab": {
   "authorship_tag": "ABX9TyMSSZ1nmpo0PoxKLX5j2ex5",
   "gpuType": "A100",
   "provenance": []
  },
  "kernelspec": {
   "display_name": "Python 3 (ipykernel)",
   "language": "python",
   "name": "python3"
  },
  "language_info": {
   "codemirror_mode": {
    "name": "ipython",
    "version": 3
   },
   "file_extension": ".py",
   "mimetype": "text/x-python",
   "name": "python",
   "nbconvert_exporter": "python",
   "pygments_lexer": "ipython3",
   "version": "3.9.12"
  }
 },
 "nbformat": 4,
 "nbformat_minor": 1
}
