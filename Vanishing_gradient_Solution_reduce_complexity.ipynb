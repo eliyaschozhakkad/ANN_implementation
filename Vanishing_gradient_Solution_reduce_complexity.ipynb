{
 "cells": [
  {
   "cell_type": "markdown",
   "metadata": {
    "id": "WqK9htn6eWQn"
   },
   "source": [
    "# Reduce model complexicity"
   ]
  },
  {
   "cell_type": "code",
   "execution_count": 1,
   "metadata": {
    "executionInfo": {
     "elapsed": 4165,
     "status": "ok",
     "timestamp": 1692443213728,
     "user": {
      "displayName": "colab0 ineuron",
      "userId": "16851312232179065356"
     },
     "user_tz": -360
    },
    "id": "Zk0CaGrWUf__"
   },
   "outputs": [],
   "source": [
    "import tensorflow as tf\n",
    "import keras\n",
    "from keras.layers import Dense\n",
    "from keras.models import Sequential\n",
    "import matplotlib.pyplot as plt\n",
    "import numpy as np\n",
    "from sklearn.datasets import make_moons\n",
    "from sklearn.model_selection import train_test_split"
   ]
  },
  {
   "cell_type": "code",
   "execution_count": 2,
   "metadata": {
    "executionInfo": {
     "elapsed": 2,
     "status": "ok",
     "timestamp": 1692443216864,
     "user": {
      "displayName": "colab0 ineuron",
      "userId": "16851312232179065356"
     },
     "user_tz": -360
    },
    "id": "R5c6OcbNVrpy"
   },
   "outputs": [],
   "source": [
    "X,y = make_moons(n_samples=250, noise = 0.05, random_state=42)"
   ]
  },
  {
   "cell_type": "code",
   "execution_count": 3,
   "metadata": {
    "colab": {
     "base_uri": "https://localhost:8080/"
    },
    "executionInfo": {
     "elapsed": 1458,
     "status": "ok",
     "timestamp": 1692443222505,
     "user": {
      "displayName": "colab0 ineuron",
      "userId": "16851312232179065356"
     },
     "user_tz": -360
    },
    "id": "GWUhbvSaV4KA",
    "outputId": "30548ee2-fafb-47ba-a26b-b70a592a1cfd"
   },
   "outputs": [
    {
     "data": {
      "text/plain": [
       "(250, 2)"
      ]
     },
     "execution_count": 3,
     "metadata": {},
     "output_type": "execute_result"
    }
   ],
   "source": [
    "X.shape"
   ]
  },
  {
   "cell_type": "code",
   "execution_count": 4,
   "metadata": {
    "colab": {
     "base_uri": "https://localhost:8080/"
    },
    "executionInfo": {
     "elapsed": 8,
     "status": "ok",
     "timestamp": 1692443222505,
     "user": {
      "displayName": "colab0 ineuron",
      "userId": "16851312232179065356"
     },
     "user_tz": -360
    },
    "id": "SJdJu6hxWPVs",
    "outputId": "e616c711-e7af-446d-cac0-821c4b918f50"
   },
   "outputs": [
    {
     "data": {
      "text/plain": [
       "array([[ 8.41540974e-02,  1.13341197e-01],\n",
       "       [ 1.05091536e+00,  1.54710235e-01],\n",
       "       [-7.16555269e-01,  6.75607887e-01],\n",
       "       [ 6.09316755e-02,  9.26542340e-01],\n",
       "       [-1.00552480e+00,  3.36425155e-01],\n",
       "       [ 7.63045744e-01, -4.82519400e-01],\n",
       "       [ 1.30067681e+00, -4.60456076e-01],\n",
       "       [ 8.93997023e-01, -5.39443631e-01],\n",
       "       [ 1.01492378e+00,  2.49633435e-01],\n",
       "       [-8.88621081e-01,  5.38566586e-01],\n",
       "       [ 1.36613788e+00, -3.56819676e-01],\n",
       "       [ 1.69872955e+00, -2.50238607e-01],\n",
       "       [ 1.93909982e+00,  7.98335031e-02],\n",
       "       [ 1.98164910e+00,  2.73166182e-01],\n",
       "       [-1.92842298e-01,  9.90722796e-01],\n",
       "       [ 1.87318667e+00, -1.28604429e-01],\n",
       "       [ 1.12842503e+00, -4.29068613e-01],\n",
       "       [ 9.60365014e-01,  5.24004362e-01],\n",
       "       [ 6.83418960e-01, -4.32057757e-01],\n",
       "       [ 8.36557987e-01,  5.74232279e-01],\n",
       "       [ 2.04424212e+00,  4.47864563e-01],\n",
       "       [ 7.89541222e-01,  4.20628768e-01],\n",
       "       [-8.99855447e-01,  3.09253977e-01],\n",
       "       [-1.70083737e-01,  1.01364818e+00],\n",
       "       [ 8.64100790e-01, -4.62976070e-01],\n",
       "       [ 4.16929826e-01,  9.18202726e-01],\n",
       "       [ 2.06768552e-01,  9.66869965e-01],\n",
       "       [ 9.98383587e-01,  1.53441053e-01],\n",
       "       [ 7.41612725e-01,  6.91498410e-01],\n",
       "       [-1.00574217e+00,  7.74054546e-02],\n",
       "       [ 1.31683658e+00, -4.78428187e-01],\n",
       "       [ 5.54481432e-01,  7.28612668e-01],\n",
       "       [ 1.35858678e-01,  8.88735937e-02],\n",
       "       [ 1.75654841e+00, -2.42976963e-01],\n",
       "       [ 7.40743386e-01,  5.54338955e-01],\n",
       "       [-9.97524363e-01,  2.64286007e-01],\n",
       "       [ 9.20293241e-01,  5.29340369e-01],\n",
       "       [ 1.19270090e+00, -5.58707061e-01],\n",
       "       [ 8.56420100e-01, -5.56110065e-01],\n",
       "       [ 2.89464236e-01, -2.34008340e-01],\n",
       "       [-9.96733805e-01,  1.17069019e-01],\n",
       "       [-7.55340560e-01,  6.30902041e-01],\n",
       "       [-8.24480429e-01,  3.60565618e-01],\n",
       "       [ 9.03680204e-01, -5.21468166e-01],\n",
       "       [ 1.75437757e+00, -1.02159856e-01],\n",
       "       [ 8.19380922e-01,  4.15657148e-01],\n",
       "       [ 1.11163727e-01,  3.15453600e-02],\n",
       "       [-1.78801952e-01,  1.01024975e+00],\n",
       "       [ 6.33124657e-01, -4.15851002e-01],\n",
       "       [ 6.54456705e-01,  7.83801620e-01],\n",
       "       [ 1.03252524e-02,  2.99269369e-01],\n",
       "       [ 1.90041253e+00, -9.29652950e-02],\n",
       "       [ 1.92478212e+00,  1.95990042e-01],\n",
       "       [-9.98773046e-01,  8.66633440e-02],\n",
       "       [ 2.01607705e-02,  2.32763980e-01],\n",
       "       [-1.06941992e-01,  1.03645475e+00],\n",
       "       [ 1.67299917e+00, -2.35023613e-01],\n",
       "       [ 2.71539502e-01, -5.81445137e-02],\n",
       "       [ 4.97623260e-01, -2.90178812e-01],\n",
       "       [ 1.81516796e+00,  2.61465591e-02],\n",
       "       [ 1.90198850e+00,  6.48805981e-02],\n",
       "       [ 3.27847838e-01, -1.77111950e-01],\n",
       "       [-1.00837743e+00,  7.17300661e-02],\n",
       "       [-5.49966384e-01,  8.55604463e-01],\n",
       "       [ 9.06805597e-05,  5.37796764e-01],\n",
       "       [ 6.11375169e-01, -3.53652874e-01],\n",
       "       [ 2.02325774e+00,  4.06240765e-01],\n",
       "       [-8.70031210e-01,  3.97519601e-01],\n",
       "       [ 6.66505683e-01, -3.38205158e-01],\n",
       "       [ 1.94000221e+00,  1.15502286e-01],\n",
       "       [-2.52781645e-01,  1.01822885e+00],\n",
       "       [ 3.54686494e-01, -1.88981657e-01],\n",
       "       [-1.00756489e+00,  1.82643859e-01],\n",
       "       [-3.50689868e-01,  8.82880254e-01],\n",
       "       [ 1.95965424e+00,  1.79135608e-01],\n",
       "       [-4.23791395e-01,  8.09785398e-01],\n",
       "       [ 8.19759719e-01,  6.21324827e-01],\n",
       "       [-6.15906179e-02,  4.33434719e-01],\n",
       "       [-3.19944988e-01,  9.06668534e-01],\n",
       "       [-5.44796440e-01,  8.11568854e-01],\n",
       "       [ 9.87483245e-01,  1.01044592e-01],\n",
       "       [ 1.53964975e-01,  1.01319832e+00],\n",
       "       [ 1.05858256e+00, -5.93402519e-01],\n",
       "       [ 1.97834556e+00,  8.60038698e-02],\n",
       "       [ 5.64102869e-01, -4.36058965e-01],\n",
       "       [-2.37493320e-02,  1.00856184e+00],\n",
       "       [-5.35625551e-03,  1.47203879e-01],\n",
       "       [-9.42781423e-01,  4.28932329e-02],\n",
       "       [ 1.58076309e+00, -3.57876102e-01],\n",
       "       [ 1.48729531e-01,  1.12406541e-01],\n",
       "       [ 6.29856834e-01,  6.64970026e-01],\n",
       "       [ 9.73741351e-01,  2.93136861e-01],\n",
       "       [ 6.21931794e-01,  8.76251701e-01],\n",
       "       [ 7.16095126e-01,  6.50658455e-01],\n",
       "       [ 4.95397335e-01,  8.34109782e-01],\n",
       "       [ 1.63507414e+00, -1.93640898e-01],\n",
       "       [ 9.39327586e-01,  5.49193155e-01],\n",
       "       [-7.02603152e-01,  7.11243303e-01],\n",
       "       [ 1.57895616e+00, -2.46854147e-01],\n",
       "       [-8.60243926e-01,  4.82453441e-01],\n",
       "       [ 1.96013416e-01,  9.65367181e-01],\n",
       "       [-6.88978962e-01,  6.82259107e-01],\n",
       "       [ 8.63270212e-02,  8.25279133e-02],\n",
       "       [ 1.30867374e+00, -4.12829733e-01],\n",
       "       [-2.80980058e-01,  8.90032626e-01],\n",
       "       [ 3.90315962e-01,  8.44195161e-01],\n",
       "       [-1.01238380e+00,  3.16694022e-01],\n",
       "       [ 1.88767659e-01, -2.25730970e-01],\n",
       "       [-4.23065928e-01,  8.44359095e-01],\n",
       "       [ 2.30863628e-01, -5.38191260e-03],\n",
       "       [ 8.23153642e-01,  6.38907309e-01],\n",
       "       [ 2.02153850e+00,  3.55368581e-01],\n",
       "       [ 4.22720017e-01, -4.05969894e-01],\n",
       "       [ 1.94612164e+00,  3.46309741e-01],\n",
       "       [-8.23563555e-02,  2.57773171e-01],\n",
       "       [ 9.05162639e-01,  2.99546663e-02],\n",
       "       [ 9.90312968e-01,  6.49079351e-02],\n",
       "       [-3.94545588e-01,  9.39513323e-01],\n",
       "       [ 3.70761979e-01,  8.91148754e-01],\n",
       "       [-8.65625258e-01,  6.47559713e-01],\n",
       "       [ 1.96289637e-02,  4.59825674e-01],\n",
       "       [ 1.50193647e-01, -1.03619463e-01],\n",
       "       [ 1.95031761e+00,  4.50109109e-01],\n",
       "       [-7.11828602e-01,  8.38215329e-01],\n",
       "       [-5.88138020e-01,  7.91217871e-01],\n",
       "       [ 6.34356363e-01, -4.92699529e-01],\n",
       "       [ 1.17655385e+00, -4.82003919e-01],\n",
       "       [-8.23041847e-01,  5.32075432e-01],\n",
       "       [ 5.36377240e-01,  8.24758720e-01],\n",
       "       [ 1.91932769e-02,  1.03212374e+00],\n",
       "       [ 4.47136711e-01, -2.98474265e-01],\n",
       "       [ 6.61329477e-04,  1.62173993e-01],\n",
       "       [ 1.03139656e+00,  2.52724712e-01],\n",
       "       [ 2.00901794e+00,  3.72972507e-01],\n",
       "       [ 1.34371500e+00, -4.95306035e-01],\n",
       "       [ 8.32692245e-01,  6.13191507e-01],\n",
       "       [ 2.40499915e-01, -1.83473915e-01],\n",
       "       [ 1.01199217e+00,  1.96744802e-01],\n",
       "       [-9.82739628e-01,  6.03130719e-02],\n",
       "       [ 7.68774066e-01,  7.54845484e-01],\n",
       "       [ 8.14262083e-02,  1.04801875e-01],\n",
       "       [ 7.36970991e-01, -5.06578512e-01],\n",
       "       [ 1.13245960e-02,  1.29749761e-01],\n",
       "       [ 1.66586647e-02,  9.87104892e-01],\n",
       "       [-1.41985580e-01,  2.35934315e-01],\n",
       "       [-2.30085262e-02,  4.68708154e-01],\n",
       "       [ 1.80680888e+00,  7.66701743e-02],\n",
       "       [ 1.51023383e+00, -4.17300059e-01],\n",
       "       [-1.43817366e-01,  1.00579053e+00],\n",
       "       [ 1.13801188e+00, -4.51854564e-01],\n",
       "       [-4.79456251e-02,  1.01073406e+00],\n",
       "       [ 4.81561777e-01,  1.00042718e+00],\n",
       "       [ 4.83595738e-01, -3.71334091e-01],\n",
       "       [ 4.27502468e-01,  9.46709431e-01],\n",
       "       [-1.01284116e+00,  5.20731788e-02],\n",
       "       [ 3.36537239e-01, -1.39992367e-01],\n",
       "       [ 8.25238299e-01,  6.21276364e-01],\n",
       "       [ 1.59430507e+00, -2.91458161e-01],\n",
       "       [ 8.22673634e-01, -4.34573563e-01],\n",
       "       [-4.44217241e-01,  8.17780564e-01],\n",
       "       [ 5.74547421e-01,  7.31845529e-01],\n",
       "       [ 1.64606277e+00, -4.03736997e-01],\n",
       "       [ 4.51539239e-01,  8.88005222e-01],\n",
       "       [-6.96781502e-01,  6.43360506e-01],\n",
       "       [ 1.12578888e+00, -5.08878851e-01],\n",
       "       [ 4.11282995e-01, -2.90022518e-01],\n",
       "       [ 3.94713405e-01,  9.11565376e-01],\n",
       "       [ 1.00491510e-01,  6.69636771e-02],\n",
       "       [ 8.61868415e-01, -4.95825373e-01],\n",
       "       [ 1.08125924e+00,  1.95014954e-01],\n",
       "       [-8.47058335e-01,  4.48639639e-01],\n",
       "       [ 2.07315004e-01,  9.33182299e-01],\n",
       "       [-1.07918504e-02,  2.85020993e-01],\n",
       "       [ 1.94685691e+00, -3.88250939e-02],\n",
       "       [ 1.09012513e+00, -4.86385061e-01],\n",
       "       [ 1.91757921e+00,  8.42727807e-02],\n",
       "       [ 3.63422548e-01,  9.49699645e-01],\n",
       "       [ 4.67168160e-01, -3.59780609e-01],\n",
       "       [-3.51357680e-01,  9.10428529e-01],\n",
       "       [ 6.71383431e-01,  7.19532528e-01],\n",
       "       [ 1.48658799e+00, -3.53806780e-01],\n",
       "       [ 9.25826602e-01,  9.34651868e-02],\n",
       "       [ 6.20327446e-01, -4.43396303e-01],\n",
       "       [-9.24756059e-01,  2.82753449e-01],\n",
       "       [-7.48410140e-01,  7.52348059e-01],\n",
       "       [-5.24784978e-01,  7.56237025e-01],\n",
       "       [ 1.85793068e+00, -1.77488836e-01],\n",
       "       [ 1.99043825e+00, -3.84966266e-02],\n",
       "       [-6.11864010e-01,  8.57363102e-01],\n",
       "       [ 1.05350164e+00,  3.00605340e-01],\n",
       "       [ 8.70095557e-01,  2.66644712e-01],\n",
       "       [ 8.72329779e-02,  1.03910029e+00],\n",
       "       [ 1.65081111e+00, -3.40657824e-01],\n",
       "       [ 3.63605836e-02,  3.38859653e-01],\n",
       "       [ 8.98360843e-01,  3.03611471e-01],\n",
       "       [ 5.32578420e-01, -3.54511798e-01],\n",
       "       [-1.60894304e-01,  9.64351737e-01],\n",
       "       [ 1.77033059e+00, -1.28793935e-01],\n",
       "       [-6.14242259e-02,  4.04786927e-01],\n",
       "       [ 1.39596937e+00, -3.83944461e-01],\n",
       "       [ 1.91838913e+00, -3.73585050e-03],\n",
       "       [ 6.70163023e-02,  1.01297684e+00],\n",
       "       [ 1.90624888e-01,  9.86455339e-01],\n",
       "       [-8.70460181e-01,  4.18048901e-01],\n",
       "       [ 3.43459618e-01,  8.69895649e-01],\n",
       "       [ 1.93067862e+00,  1.42407452e-01],\n",
       "       [ 7.76412421e-01, -3.47049763e-01],\n",
       "       [ 1.53862659e+00, -4.12402904e-01],\n",
       "       [ 1.17014308e+00, -5.28937231e-01],\n",
       "       [ 1.98645256e+00,  4.32043556e-01],\n",
       "       [ 1.50787776e+00, -3.42156486e-01],\n",
       "       [ 1.79295620e+00, -1.58598687e-01],\n",
       "       [ 5.93010896e-01, -4.07264923e-01],\n",
       "       [ 1.30133494e-01,  1.01973391e+00],\n",
       "       [ 3.85447617e-01,  9.69650467e-01],\n",
       "       [-6.34227601e-01,  8.13711246e-01],\n",
       "       [ 8.94441988e-01,  4.42739571e-01],\n",
       "       [ 1.12636377e-01,  1.02239287e+00],\n",
       "       [ 1.47982048e+00, -3.77712802e-01],\n",
       "       [ 4.56676861e-01, -2.94934321e-01],\n",
       "       [ 1.99682455e+00,  3.63866999e-01],\n",
       "       [ 8.83682414e-01, -4.24459839e-01],\n",
       "       [ 1.00812283e+00, -4.45022320e-01],\n",
       "       [ 3.94722661e-02,  2.81852028e-01],\n",
       "       [ 4.77423984e-01,  8.77652359e-01],\n",
       "       [ 3.71769184e-01, -2.68835969e-01],\n",
       "       [ 1.89365819e+00,  1.78324996e-01],\n",
       "       [ 9.99041868e-01,  7.80524751e-02],\n",
       "       [ 2.74631578e-01,  1.04722866e+00],\n",
       "       [ 2.27740448e-01, -3.52295626e-02],\n",
       "       [-9.59341307e-03,  3.52395343e-01],\n",
       "       [ 2.06636314e-01, -2.00588291e-02],\n",
       "       [-8.82085737e-01,  5.20322240e-01],\n",
       "       [-9.18268409e-01,  6.25667483e-01],\n",
       "       [-8.66670027e-01,  1.54616615e-01],\n",
       "       [-4.33154940e-01,  8.15140294e-01],\n",
       "       [ 1.24230304e+00, -4.47929912e-01],\n",
       "       [-2.32841195e-01,  1.05410512e+00],\n",
       "       [ 1.66784697e+00, -1.96635930e-01],\n",
       "       [ 1.49140344e+00, -3.68984892e-01],\n",
       "       [-1.08108588e+00,  4.56799604e-02],\n",
       "       [ 2.03809595e+00,  5.10632788e-01],\n",
       "       [ 9.17739068e-01,  4.38476262e-01],\n",
       "       [ 9.81556463e-01, -4.89448565e-01],\n",
       "       [-2.56180461e-01,  1.03920861e+00],\n",
       "       [-9.29175484e-01,  4.15624689e-01],\n",
       "       [ 9.58694103e-01,  3.27840843e-01],\n",
       "       [-7.50714139e-01,  6.69824996e-01],\n",
       "       [ 8.25589778e-01, -5.47465517e-01],\n",
       "       [-7.78786036e-01,  4.94444046e-01]])"
      ]
     },
     "execution_count": 4,
     "metadata": {},
     "output_type": "execute_result"
    }
   ],
   "source": [
    "X"
   ]
  },
  {
   "cell_type": "code",
   "execution_count": 1,
   "metadata": {
    "colab": {
     "base_uri": "https://localhost:8080/"
    },
    "executionInfo": {
     "elapsed": 10,
     "status": "ok",
     "timestamp": 1692443226905,
     "user": {
      "displayName": "colab0 ineuron",
      "userId": "16851312232179065356"
     },
     "user_tz": -360
    },
    "id": "gcHQhfygXiwY",
    "outputId": "ae89f0df-9092-47c4-9ddd-8a502c93e82d"
   },
   "outputs": [
    {
     "ename": "NameError",
     "evalue": "name 'y' is not defined",
     "output_type": "error",
     "traceback": [
      "\u001b[0;31m---------------------------------------------------------------------------\u001b[0m",
      "\u001b[0;31mNameError\u001b[0m                                 Traceback (most recent call last)",
      "Cell \u001b[0;32mIn[1], line 1\u001b[0m\n\u001b[0;32m----> 1\u001b[0m \u001b[43my\u001b[49m\n",
      "\u001b[0;31mNameError\u001b[0m: name 'y' is not defined"
     ]
    }
   ],
   "source": [
    "y"
   ]
  },
  {
   "cell_type": "code",
   "execution_count": null,
   "metadata": {
    "colab": {
     "base_uri": "https://localhost:8080/",
     "height": 430
    },
    "executionInfo": {
     "elapsed": 13,
     "status": "ok",
     "timestamp": 1692443228266,
     "user": {
      "displayName": "colab0 ineuron",
      "userId": "16851312232179065356"
     },
     "user_tz": -360
    },
    "id": "yOmFhWBIV6O_",
    "outputId": "fbb4a191-1d3c-435e-f15a-f679414b15ae"
   },
   "outputs": [],
   "source": [
    "plt.scatter(X[:,0], X[:,1], c=y, s=100)\n",
    "plt.show()"
   ]
  },
  {
   "cell_type": "code",
   "execution_count": 7,
   "metadata": {
    "executionInfo": {
     "elapsed": 3836,
     "status": "ok",
     "timestamp": 1692443264386,
     "user": {
      "displayName": "colab0 ineuron",
      "userId": "16851312232179065356"
     },
     "user_tz": -360
    },
    "id": "VqVxEfYVV8if"
   },
   "outputs": [],
   "source": [
    "model = Sequential()\n",
    "\n",
    "model.add(Dense(10, activation='sigmoid', input_dim=2))\n",
    "model.add(Dense(10, activation='sigmoid'))\n",
    "model.add(Dense(10, activation='sigmoid'))\n",
    "model.add(Dense(10, activation='sigmoid'))\n",
    "model.add(Dense(1, activation='sigmoid'))"
   ]
  },
  {
   "cell_type": "code",
   "execution_count": 8,
   "metadata": {
    "executionInfo": {
     "elapsed": 957,
     "status": "ok",
     "timestamp": 1692443268022,
     "user": {
      "displayName": "colab0 ineuron",
      "userId": "16851312232179065356"
     },
     "user_tz": -360
    },
    "id": "GYbvmWCmXgEk"
   },
   "outputs": [],
   "source": [
    "model.compile(loss='binary_crossentropy', optimizer= 'adam',metrics=['accuracy'])"
   ]
  },
  {
   "cell_type": "code",
   "execution_count": 9,
   "metadata": {
    "colab": {
     "base_uri": "https://localhost:8080/"
    },
    "executionInfo": {
     "elapsed": 5,
     "status": "ok",
     "timestamp": 1692443271081,
     "user": {
      "displayName": "colab0 ineuron",
      "userId": "16851312232179065356"
     },
     "user_tz": -360
    },
    "id": "Ncv72yEoXgBh",
    "outputId": "6ef4f7e5-d4bb-4e8e-ddcd-d098b28a907c"
   },
   "outputs": [
    {
     "data": {
      "text/plain": [
       "array([[-0.17889446, -0.49119183,  0.04211468, -0.18297803, -0.3508307 ,\n",
       "         0.44609517,  0.59982616, -0.4582234 , -0.45892033, -0.4282061 ],\n",
       "       [ 0.4687894 ,  0.4382556 , -0.68295324, -0.06654751,  0.6579177 ,\n",
       "         0.2841702 , -0.19190878, -0.11677241, -0.1450386 , -0.03354079]],\n",
       "      dtype=float32)"
      ]
     },
     "execution_count": 9,
     "metadata": {},
     "output_type": "execute_result"
    }
   ],
   "source": [
    "model.get_weights()[0]"
   ]
  },
  {
   "cell_type": "code",
   "execution_count": 10,
   "metadata": {
    "executionInfo": {
     "elapsed": 921,
     "status": "ok",
     "timestamp": 1692443274945,
     "user": {
      "displayName": "colab0 ineuron",
      "userId": "16851312232179065356"
     },
     "user_tz": -360
    },
    "id": "4dCNVYwTXf_J"
   },
   "outputs": [],
   "source": [
    "old_weights = model.get_weights()[0]"
   ]
  },
  {
   "cell_type": "code",
   "execution_count": 11,
   "metadata": {
    "executionInfo": {
     "elapsed": 3,
     "status": "ok",
     "timestamp": 1692443278081,
     "user": {
      "displayName": "colab0 ineuron",
      "userId": "16851312232179065356"
     },
     "user_tz": -360
    },
    "id": "wW5-2cmiYVSA"
   },
   "outputs": [],
   "source": [
    "X_train, X_test, y_train, y_test = train_test_split(X, y, test_size=0.20, random_state=42)"
   ]
  },
  {
   "cell_type": "code",
   "execution_count": 12,
   "metadata": {
    "colab": {
     "base_uri": "https://localhost:8080/"
    },
    "executionInfo": {
     "elapsed": 10761,
     "status": "ok",
     "timestamp": 1692443292182,
     "user": {
      "displayName": "colab0 ineuron",
      "userId": "16851312232179065356"
     },
     "user_tz": -360
    },
    "id": "Z2ndUZz7Ykbo",
    "outputId": "f2e9a97d-f6ae-4a8d-dc77-539e7eba7f39"
   },
   "outputs": [
    {
     "name": "stdout",
     "output_type": "stream",
     "text": [
      "Epoch 1/100\n",
      "7/7 [==============================] - 8s 5ms/step - loss: 0.8141 - accuracy: 0.4900\n",
      "Epoch 2/100\n",
      "7/7 [==============================] - 0s 4ms/step - loss: 0.7944 - accuracy: 0.4900\n",
      "Epoch 3/100\n",
      "7/7 [==============================] - 0s 4ms/step - loss: 0.7760 - accuracy: 0.4900\n",
      "Epoch 4/100\n",
      "7/7 [==============================] - 0s 4ms/step - loss: 0.7595 - accuracy: 0.4900\n",
      "Epoch 5/100\n",
      "7/7 [==============================] - 0s 3ms/step - loss: 0.7457 - accuracy: 0.4900\n",
      "Epoch 6/100\n",
      "7/7 [==============================] - 0s 4ms/step - loss: 0.7351 - accuracy: 0.4900\n",
      "Epoch 7/100\n",
      "7/7 [==============================] - 0s 4ms/step - loss: 0.7264 - accuracy: 0.4900\n",
      "Epoch 8/100\n",
      "7/7 [==============================] - 0s 3ms/step - loss: 0.7178 - accuracy: 0.4900\n",
      "Epoch 9/100\n",
      "7/7 [==============================] - 0s 3ms/step - loss: 0.7103 - accuracy: 0.4900\n",
      "Epoch 10/100\n",
      "7/7 [==============================] - 0s 3ms/step - loss: 0.7059 - accuracy: 0.4900\n",
      "Epoch 11/100\n",
      "7/7 [==============================] - 0s 3ms/step - loss: 0.7018 - accuracy: 0.4900\n",
      "Epoch 12/100\n",
      "7/7 [==============================] - 0s 3ms/step - loss: 0.6993 - accuracy: 0.4900\n",
      "Epoch 13/100\n",
      "7/7 [==============================] - 0s 3ms/step - loss: 0.6968 - accuracy: 0.4900\n",
      "Epoch 14/100\n",
      "7/7 [==============================] - 0s 3ms/step - loss: 0.6948 - accuracy: 0.4900\n",
      "Epoch 15/100\n",
      "7/7 [==============================] - 0s 3ms/step - loss: 0.6932 - accuracy: 0.4900\n",
      "Epoch 16/100\n",
      "7/7 [==============================] - 0s 3ms/step - loss: 0.6923 - accuracy: 0.4900\n",
      "Epoch 17/100\n",
      "7/7 [==============================] - 0s 3ms/step - loss: 0.6915 - accuracy: 0.4900\n",
      "Epoch 18/100\n",
      "7/7 [==============================] - 0s 3ms/step - loss: 0.6915 - accuracy: 0.5600\n",
      "Epoch 19/100\n",
      "7/7 [==============================] - 0s 3ms/step - loss: 0.6910 - accuracy: 0.8150\n",
      "Epoch 20/100\n",
      "7/7 [==============================] - 0s 3ms/step - loss: 0.6908 - accuracy: 0.7850\n",
      "Epoch 21/100\n",
      "7/7 [==============================] - 0s 3ms/step - loss: 0.6906 - accuracy: 0.6050\n",
      "Epoch 22/100\n",
      "7/7 [==============================] - 0s 4ms/step - loss: 0.6905 - accuracy: 0.5100\n",
      "Epoch 23/100\n",
      "7/7 [==============================] - 0s 3ms/step - loss: 0.6903 - accuracy: 0.5100\n",
      "Epoch 24/100\n",
      "7/7 [==============================] - 0s 3ms/step - loss: 0.6899 - accuracy: 0.5100\n",
      "Epoch 25/100\n",
      "7/7 [==============================] - 0s 3ms/step - loss: 0.6899 - accuracy: 0.5100\n",
      "Epoch 26/100\n",
      "7/7 [==============================] - 0s 3ms/step - loss: 0.6896 - accuracy: 0.5100\n",
      "Epoch 27/100\n",
      "7/7 [==============================] - 0s 3ms/step - loss: 0.6894 - accuracy: 0.5100\n",
      "Epoch 28/100\n",
      "7/7 [==============================] - 0s 3ms/step - loss: 0.6892 - accuracy: 0.5100\n",
      "Epoch 29/100\n",
      "7/7 [==============================] - 0s 3ms/step - loss: 0.6890 - accuracy: 0.6150\n",
      "Epoch 30/100\n",
      "7/7 [==============================] - 0s 4ms/step - loss: 0.6887 - accuracy: 0.8000\n",
      "Epoch 31/100\n",
      "7/7 [==============================] - 0s 3ms/step - loss: 0.6886 - accuracy: 0.7800\n",
      "Epoch 32/100\n",
      "7/7 [==============================] - 0s 3ms/step - loss: 0.6884 - accuracy: 0.7750\n",
      "Epoch 33/100\n",
      "7/7 [==============================] - 0s 3ms/step - loss: 0.6878 - accuracy: 0.7700\n",
      "Epoch 34/100\n",
      "7/7 [==============================] - 0s 4ms/step - loss: 0.6874 - accuracy: 0.7750\n",
      "Epoch 35/100\n",
      "7/7 [==============================] - 0s 3ms/step - loss: 0.6870 - accuracy: 0.7600\n",
      "Epoch 36/100\n",
      "7/7 [==============================] - 0s 4ms/step - loss: 0.6867 - accuracy: 0.5600\n",
      "Epoch 37/100\n",
      "7/7 [==============================] - 0s 3ms/step - loss: 0.6861 - accuracy: 0.5100\n",
      "Epoch 38/100\n",
      "7/7 [==============================] - 0s 3ms/step - loss: 0.6856 - accuracy: 0.5100\n",
      "Epoch 39/100\n",
      "7/7 [==============================] - 0s 3ms/step - loss: 0.6851 - accuracy: 0.5100\n",
      "Epoch 40/100\n",
      "7/7 [==============================] - 0s 3ms/step - loss: 0.6849 - accuracy: 0.5100\n",
      "Epoch 41/100\n",
      "7/7 [==============================] - 0s 4ms/step - loss: 0.6843 - accuracy: 0.5100\n",
      "Epoch 42/100\n",
      "7/7 [==============================] - 0s 3ms/step - loss: 0.6837 - accuracy: 0.5100\n",
      "Epoch 43/100\n",
      "7/7 [==============================] - 0s 3ms/step - loss: 0.6829 - accuracy: 0.5100\n",
      "Epoch 44/100\n",
      "7/7 [==============================] - 0s 3ms/step - loss: 0.6819 - accuracy: 0.5100\n",
      "Epoch 45/100\n",
      "7/7 [==============================] - 0s 4ms/step - loss: 0.6812 - accuracy: 0.5100\n",
      "Epoch 46/100\n",
      "7/7 [==============================] - 0s 3ms/step - loss: 0.6804 - accuracy: 0.6550\n",
      "Epoch 47/100\n",
      "7/7 [==============================] - 0s 3ms/step - loss: 0.6793 - accuracy: 0.7050\n",
      "Epoch 48/100\n",
      "7/7 [==============================] - 0s 3ms/step - loss: 0.6783 - accuracy: 0.7450\n",
      "Epoch 49/100\n",
      "7/7 [==============================] - 0s 4ms/step - loss: 0.6771 - accuracy: 0.7850\n",
      "Epoch 50/100\n",
      "7/7 [==============================] - 0s 4ms/step - loss: 0.6759 - accuracy: 0.7900\n",
      "Epoch 51/100\n",
      "7/7 [==============================] - 0s 4ms/step - loss: 0.6745 - accuracy: 0.7800\n",
      "Epoch 52/100\n",
      "7/7 [==============================] - 0s 4ms/step - loss: 0.6735 - accuracy: 0.7700\n",
      "Epoch 53/100\n",
      "7/7 [==============================] - 0s 3ms/step - loss: 0.6718 - accuracy: 0.7800\n",
      "Epoch 54/100\n",
      "7/7 [==============================] - 0s 4ms/step - loss: 0.6700 - accuracy: 0.7800\n",
      "Epoch 55/100\n",
      "7/7 [==============================] - 0s 4ms/step - loss: 0.6684 - accuracy: 0.7900\n",
      "Epoch 56/100\n",
      "7/7 [==============================] - 0s 4ms/step - loss: 0.6662 - accuracy: 0.8050\n",
      "Epoch 57/100\n",
      "7/7 [==============================] - 0s 4ms/step - loss: 0.6641 - accuracy: 0.8000\n",
      "Epoch 58/100\n",
      "7/7 [==============================] - 0s 4ms/step - loss: 0.6620 - accuracy: 0.8000\n",
      "Epoch 59/100\n",
      "7/7 [==============================] - 0s 3ms/step - loss: 0.6596 - accuracy: 0.8150\n",
      "Epoch 60/100\n",
      "7/7 [==============================] - 0s 4ms/step - loss: 0.6570 - accuracy: 0.8000\n",
      "Epoch 61/100\n",
      "7/7 [==============================] - 0s 3ms/step - loss: 0.6537 - accuracy: 0.7950\n",
      "Epoch 62/100\n",
      "7/7 [==============================] - 0s 3ms/step - loss: 0.6507 - accuracy: 0.7850\n",
      "Epoch 63/100\n",
      "7/7 [==============================] - 0s 3ms/step - loss: 0.6472 - accuracy: 0.7800\n",
      "Epoch 64/100\n",
      "7/7 [==============================] - 0s 3ms/step - loss: 0.6435 - accuracy: 0.7900\n",
      "Epoch 65/100\n",
      "7/7 [==============================] - 0s 3ms/step - loss: 0.6397 - accuracy: 0.7950\n",
      "Epoch 66/100\n",
      "7/7 [==============================] - 0s 3ms/step - loss: 0.6356 - accuracy: 0.7850\n",
      "Epoch 67/100\n",
      "7/7 [==============================] - 0s 4ms/step - loss: 0.6312 - accuracy: 0.8000\n",
      "Epoch 68/100\n",
      "7/7 [==============================] - 0s 4ms/step - loss: 0.6265 - accuracy: 0.8050\n",
      "Epoch 69/100\n",
      "7/7 [==============================] - 0s 3ms/step - loss: 0.6213 - accuracy: 0.8100\n",
      "Epoch 70/100\n",
      "7/7 [==============================] - 0s 4ms/step - loss: 0.6163 - accuracy: 0.8100\n",
      "Epoch 71/100\n",
      "7/7 [==============================] - 0s 3ms/step - loss: 0.6107 - accuracy: 0.8050\n",
      "Epoch 72/100\n",
      "7/7 [==============================] - 0s 3ms/step - loss: 0.6051 - accuracy: 0.8050\n",
      "Epoch 73/100\n",
      "7/7 [==============================] - 0s 3ms/step - loss: 0.5990 - accuracy: 0.8100\n",
      "Epoch 74/100\n",
      "7/7 [==============================] - 0s 3ms/step - loss: 0.5929 - accuracy: 0.8100\n",
      "Epoch 75/100\n",
      "7/7 [==============================] - 0s 4ms/step - loss: 0.5868 - accuracy: 0.8100\n",
      "Epoch 76/100\n",
      "7/7 [==============================] - 0s 3ms/step - loss: 0.5798 - accuracy: 0.8100\n",
      "Epoch 77/100\n",
      "7/7 [==============================] - 0s 3ms/step - loss: 0.5732 - accuracy: 0.8100\n",
      "Epoch 78/100\n",
      "7/7 [==============================] - 0s 4ms/step - loss: 0.5671 - accuracy: 0.7950\n",
      "Epoch 79/100\n",
      "7/7 [==============================] - 0s 3ms/step - loss: 0.5597 - accuracy: 0.8050\n",
      "Epoch 80/100\n",
      "7/7 [==============================] - 0s 4ms/step - loss: 0.5529 - accuracy: 0.8100\n",
      "Epoch 81/100\n",
      "7/7 [==============================] - 0s 4ms/step - loss: 0.5463 - accuracy: 0.8100\n",
      "Epoch 82/100\n",
      "7/7 [==============================] - 0s 3ms/step - loss: 0.5393 - accuracy: 0.8100\n",
      "Epoch 83/100\n",
      "7/7 [==============================] - 0s 3ms/step - loss: 0.5327 - accuracy: 0.8100\n",
      "Epoch 84/100\n",
      "7/7 [==============================] - 0s 4ms/step - loss: 0.5261 - accuracy: 0.8100\n",
      "Epoch 85/100\n",
      "7/7 [==============================] - 0s 3ms/step - loss: 0.5189 - accuracy: 0.8100\n",
      "Epoch 86/100\n",
      "7/7 [==============================] - 0s 3ms/step - loss: 0.5120 - accuracy: 0.8100\n",
      "Epoch 87/100\n",
      "7/7 [==============================] - 0s 4ms/step - loss: 0.5055 - accuracy: 0.8100\n",
      "Epoch 88/100\n",
      "7/7 [==============================] - 0s 4ms/step - loss: 0.4993 - accuracy: 0.8100\n",
      "Epoch 89/100\n",
      "7/7 [==============================] - 0s 4ms/step - loss: 0.4926 - accuracy: 0.8100\n",
      "Epoch 90/100\n",
      "7/7 [==============================] - 0s 4ms/step - loss: 0.4869 - accuracy: 0.8100\n",
      "Epoch 91/100\n",
      "7/7 [==============================] - 0s 4ms/step - loss: 0.4812 - accuracy: 0.8100\n",
      "Epoch 92/100\n",
      "7/7 [==============================] - 0s 4ms/step - loss: 0.4752 - accuracy: 0.8150\n",
      "Epoch 93/100\n",
      "7/7 [==============================] - 0s 4ms/step - loss: 0.4694 - accuracy: 0.8150\n",
      "Epoch 94/100\n",
      "7/7 [==============================] - 0s 3ms/step - loss: 0.4637 - accuracy: 0.8150\n",
      "Epoch 95/100\n",
      "7/7 [==============================] - 0s 4ms/step - loss: 0.4583 - accuracy: 0.8150\n",
      "Epoch 96/100\n",
      "7/7 [==============================] - 0s 4ms/step - loss: 0.4535 - accuracy: 0.8150\n",
      "Epoch 97/100\n",
      "7/7 [==============================] - 0s 4ms/step - loss: 0.4480 - accuracy: 0.8150\n",
      "Epoch 98/100\n",
      "7/7 [==============================] - 0s 4ms/step - loss: 0.4431 - accuracy: 0.8200\n",
      "Epoch 99/100\n",
      "7/7 [==============================] - 0s 4ms/step - loss: 0.4382 - accuracy: 0.8200\n",
      "Epoch 100/100\n",
      "7/7 [==============================] - 0s 4ms/step - loss: 0.4336 - accuracy: 0.8200\n"
     ]
    },
    {
     "data": {
      "text/plain": [
       "<keras.callbacks.History at 0x7caee70d7220>"
      ]
     },
     "execution_count": 12,
     "metadata": {},
     "output_type": "execute_result"
    }
   ],
   "source": [
    "model.fit(X_train, y_train, epochs = 100)"
   ]
  },
  {
   "cell_type": "code",
   "execution_count": 13,
   "metadata": {
    "executionInfo": {
     "elapsed": 1030,
     "status": "ok",
     "timestamp": 1692443334293,
     "user": {
      "displayName": "colab0 ineuron",
      "userId": "16851312232179065356"
     },
     "user_tz": -360
    },
    "id": "9q3viF8IYqsQ"
   },
   "outputs": [],
   "source": [
    "new_weight = model.get_weights()[0]"
   ]
  },
  {
   "cell_type": "code",
   "execution_count": 14,
   "metadata": {
    "colab": {
     "base_uri": "https://localhost:8080/"
    },
    "executionInfo": {
     "elapsed": 7,
     "status": "ok",
     "timestamp": 1692443337729,
     "user": {
      "displayName": "colab0 ineuron",
      "userId": "16851312232179065356"
     },
     "user_tz": -360
    },
    "id": "28XO2-T2ZBEX",
    "outputId": "6adac002-840f-4cc6-a872-3a8dd6bbcf64"
   },
   "outputs": [
    {
     "data": {
      "text/plain": [
       "array([[-0.17889446, -0.49119183,  0.04211468, -0.18297803, -0.3508307 ,\n",
       "         0.44609517,  0.59982616, -0.4582234 , -0.45892033, -0.4282061 ],\n",
       "       [ 0.4687894 ,  0.4382556 , -0.68295324, -0.06654751,  0.6579177 ,\n",
       "         0.2841702 , -0.19190878, -0.11677241, -0.1450386 , -0.03354079]],\n",
       "      dtype=float32)"
      ]
     },
     "execution_count": 14,
     "metadata": {},
     "output_type": "execute_result"
    }
   ],
   "source": [
    "old_weights"
   ]
  },
  {
   "cell_type": "code",
   "execution_count": 15,
   "metadata": {
    "colab": {
     "base_uri": "https://localhost:8080/"
    },
    "executionInfo": {
     "elapsed": 4,
     "status": "ok",
     "timestamp": 1692443341015,
     "user": {
      "displayName": "colab0 ineuron",
      "userId": "16851312232179065356"
     },
     "user_tz": -360
    },
    "id": "nGw8mGceZEIC",
    "outputId": "d287c202-fd83-45d3-cbab-af584741b660"
   },
   "outputs": [
    {
     "data": {
      "text/plain": [
       "array([[-0.82861197, -0.9561116 ,  0.66596866,  0.5800486 , -0.8560025 ,\n",
       "        -0.18413337,  1.1033314 , -1.0090424 , -1.0083516 ,  0.38010415],\n",
       "       [ 1.7715619 ,  1.5444001 , -1.8327383 , -1.3440576 ,  1.7934422 ,\n",
       "         1.2753915 , -1.4399961 ,  1.0137608 ,  0.9695302 , -1.2066435 ]],\n",
       "      dtype=float32)"
      ]
     },
     "execution_count": 15,
     "metadata": {},
     "output_type": "execute_result"
    }
   ],
   "source": [
    "new_weight"
   ]
  },
  {
   "cell_type": "code",
   "execution_count": 16,
   "metadata": {
    "executionInfo": {
     "elapsed": 1400,
     "status": "ok",
     "timestamp": 1692443348142,
     "user": {
      "displayName": "colab0 ineuron",
      "userId": "16851312232179065356"
     },
     "user_tz": -360
    },
    "id": "Pc7ngZWWZFfh"
   },
   "outputs": [],
   "source": [
    "percent_change = abs(100*(old_weights - new_weight)/ old_weights)"
   ]
  },
  {
   "cell_type": "code",
   "execution_count": 17,
   "metadata": {
    "colab": {
     "base_uri": "https://localhost:8080/"
    },
    "executionInfo": {
     "elapsed": 891,
     "status": "ok",
     "timestamp": 1692443349031,
     "user": {
      "displayName": "colab0 ineuron",
      "userId": "16851312232179065356"
     },
     "user_tz": -360
    },
    "id": "qLbKKZoQZR5w",
    "outputId": "0afddd96-0acb-405e-c8ce-dab7d4015430"
   },
   "outputs": [
    {
     "data": {
      "text/plain": [
       "array([[ 363.18478 ,   94.65137 , 1481.3221  ,  417.00452 ,  143.99303 ,\n",
       "         141.27669 ,   83.94187 ,  120.20752 ,  119.722565,  188.76665 ],\n",
       "       [ 277.90146 ,  252.3971  ,  168.35486 , 1919.6962  ,  172.5937  ,\n",
       "         348.8125  ,  650.3545  ,  968.15094 ,  768.46356 , 3497.5408  ]],\n",
       "      dtype=float32)"
      ]
     },
     "execution_count": 17,
     "metadata": {},
     "output_type": "execute_result"
    }
   ],
   "source": [
    "percent_change"
   ]
  },
  {
   "cell_type": "code",
   "execution_count": 18,
   "metadata": {
    "colab": {
     "base_uri": "https://localhost:8080/",
     "height": 465
    },
    "executionInfo": {
     "elapsed": 18405,
     "status": "ok",
     "timestamp": 1692443384624,
     "user": {
      "displayName": "colab0 ineuron",
      "userId": "16851312232179065356"
     },
     "user_tz": -360
    },
    "id": "kqsa8AMtZTEg",
    "outputId": "eec61dd7-f6d8-4e6c-ff3d-702985aa0ed0"
   },
   "outputs": [
    {
     "name": "stdout",
     "output_type": "stream",
     "text": [
      "9600/9600 [==============================] - 12s 1ms/step\n"
     ]
    },
    {
     "data": {
      "text/plain": [
       "<Axes: >"
      ]
     },
     "execution_count": 18,
     "metadata": {},
     "output_type": "execute_result"
    },
    {
     "data": {
      "image/png": "[encoded data removed]",
      "text/plain": [
       "<Figure size 640x480 with 1 Axes>"
      ]
     },
     "metadata": {},
     "output_type": "display_data"
    }
   ],
   "source": [
    "from mlxtend.plotting import plot_decision_regions\n",
    "plot_decision_regions(X_train, y_train.astype('int'), clf=model, legend=2)"
   ]
  }
 ],
 "metadata": {
  "accelerator": "GPU",
  "colab": {
   "authorship_tag": "ABX9TyNbaR/3GveCEREjpf11cAd6",
   "gpuType": "A100",
   "provenance": []
  },
  "kernelspec": {
   "display_name": "Python 3 (ipykernel)",
   "language": "python",
   "name": "python3"
  },
  "language_info": {
   "codemirror_mode": {
    "name": "ipython",
    "version": 3
   },
   "file_extension": ".py",
   "mimetype": "text/x-python",
   "name": "python",
   "nbconvert_exporter": "python",
   "pygments_lexer": "ipython3",
   "version": "3.9.12"
  }
 },
 "nbformat": 4,
 "nbformat_minor": 1
}
